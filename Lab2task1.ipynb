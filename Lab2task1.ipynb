{
 "cells": [
  {
   "cell_type": "code",
   "execution_count": null,
   "metadata": {},
   "outputs": [],
   "source": [
    "import re\n",
    "import random\n",
    "import csv\n",
    "\n",
    "with open(\"emails.txt\", \"r\") as file:\n",
    "\tlines = file.readlines()\n",
    "for line in lines:\n",
    "    match = re.search(r\"^(\\w+)_(\\w+)@(\\w+)\\.yahoo\\.com$\", line)\n",
    "    if match:\n",
    "        x = match.groups()\n",
    "        y = ''.join([word[0] for word in re.split(r'(\\W+)', x[0]) if word])\n",
    "        y = y.capitalize()\n",
    "        a = random.choice(\"123456789\")\n",
    "        username = y + x[1] + a + str(\"-\") + x[2]\n",
    "        b = random.choice(\"123456789\")\n",
    "        c = random.choice(\"123456789\")\n",
    "        d = random.choice(\"123456789\")\n",
    "        e = random.choice(\"123456789\")\n",
    "        f = random.choice(\"123456789\")\n",
    "        g = random.choice(\"123456789\")\n",
    "        h = random.choice(\"123456789\")\n",
    "        s = random.choice(\"123456789\")\n",
    "        pasword = y + x[1] + b + c + d + e + f + g + h + s\n",
    "        text = line.strip()\n",
    "        info = (text + str(\", \") + username + str(\", \") + pasword + \"\\n\")\n",
    "        print(info)\n",
    "        with open(\"accounts.csv\", \"a\") as file:\n",
    "            file.write(info)\n",
    "\n",
    "\n",
    "    else:\n",
    "        print(str(line) + \"your email is invalid\")"
   ]
  }
 ],
 "metadata": {
  "language_info": {
   "name": "python"
  }
 },
 "nbformat": 4,
 "nbformat_minor": 2
}
